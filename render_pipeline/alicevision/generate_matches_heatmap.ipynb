{
 "cells": [
  {
   "cell_type": "code",
   "execution_count": null,
   "metadata": {},
   "outputs": [],
   "source": [
    "import sys\n",
    "from pathlib import Path, PureWindowsPath\n",
    "\n",
    "_p = \"\\\"{0}\\\"\".format(sys.executable.replace('\\\\', '\\\\\\\\'))\n",
    "!{_p} -m pip install --user numpy\n",
    "!{_p} -m pip install --user plotly"
   ]
  },
  {
   "cell_type": "code",
   "execution_count": null,
   "metadata": {},
   "outputs": [],
   "source": [
    "from pathlib import Path\n",
    "\n",
    "matchesPaths = [Path('C:\\\\Users\\\\simon\\\\Dropbox\\\\Protospace\\\\Jozua\\\\umc_pilot_sets_ultra_rendered\\\\01_h\\\\1\\\\br1\\\\exp_matches'),\n",
    "                Path('C:\\\\Users\\\\simon\\\\Dropbox\\\\Protospace\\\\Jozua\\\\umc_pilot_sets_ultra_rendered\\\\02_hv_zusje\\\\1\\\\br0\\\\exp_matches'),\n",
    "                Path('C:\\\\Users\\\\simon\\\\Dropbox\\\\Protospace\\\\Jozua\\\\capture_tests_rendered\\\\pattern_tests_ultra\\\\noise_4\\\\no_backlight\\\\1\\\\br3\\\\exp_matches')]\n",
    "\n",
    "for matchesPath in matchesPaths:\n",
    "    m = np.zeros((30, 30), dtype=np.int)\n",
    "    for match in sorted(matchesPath.glob('*.svg')):\n",
    "        parts = match.stem.split('_')\n",
    "        m[int(parts[1])-1][int(parts[0])-1] = int(parts[2])\n",
    "    MMatches.append({'path': matchesPath, 'data': m})\n",
    "    \n",
    "#print(\"{0}\".format(MMatches))\n",
    "    "
   ]
  },
  {
   "cell_type": "code",
   "execution_count": null,
   "metadata": {
    "scrolled": false
   },
   "outputs": [],
   "source": [
    "import plotly.offline as py\n",
    "import plotly.graph_objs as go\n",
    "\n",
    "py.init_notebook_mode()\n",
    "\n",
    "\n",
    "for matches in MMatches:\n",
    "    #print(\"{0}\".format(matches))\n",
    "    trace = go.Heatmap(z=matches['data'], zsmooth='best')\n",
    "\n",
    "    layout = go.Layout(\n",
    "        title=matches['path'].as_posix(),\n",
    "        xaxis = dict(ticks='', nticks=30),\n",
    "        yaxis = dict(ticks='', nticks=30 ))\n",
    "    \n",
    "    data=[trace]\n",
    "    fig = go.Figure(data=data, layout=layout)\n",
    "    py.iplot(fig)"
   ]
  },
  {
   "cell_type": "code",
   "execution_count": null,
   "metadata": {},
   "outputs": [],
   "source": []
  }
 ],
 "metadata": {
  "kernelspec": {
   "display_name": "Python 3",
   "language": "python",
   "name": "python3"
  },
  "language_info": {
   "codemirror_mode": {
    "name": "ipython",
    "version": 3
   },
   "file_extension": ".py",
   "mimetype": "text/x-python",
   "name": "python",
   "nbconvert_exporter": "python",
   "pygments_lexer": "ipython3",
   "version": "3.6.6"
  }
 },
 "nbformat": 4,
 "nbformat_minor": 2
}
